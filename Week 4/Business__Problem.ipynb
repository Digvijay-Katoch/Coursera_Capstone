{
  "nbformat": 4,
  "nbformat_minor": 0,
  "metadata": {
    "colab": {
      "name": "Business_ Problem.ipynb",
      "provenance": []
    },
    "kernelspec": {
      "name": "python3",
      "display_name": "Python 3"
    },
    "language_info": {
      "name": "python"
    }
  },
  "cells": [
    {
      "cell_type": "markdown",
      "metadata": {
        "id": "bFYuI0Dc8ObV"
      },
      "source": [
        "## The Battle of Neighborhoods | Business Proposal | Introduction"
      ]
    },
    {
      "cell_type": "markdown",
      "metadata": {
        "id": "WqM9GcrL8Poj"
      },
      "source": [
        "The aim of this project is to find that neighborhood where the traffic accidents are the most for the installation of more CCTV cameras and more strictness and norms from the traffic department in Toronto, Canada. Specifically, this report will be targeted to the local governing council and the traffic department in Toronto City, Canada.\n",
        "\n",
        "The first task would be to choose the borough with the most traffic accidents by analysing Traffic accident data for installation of more safety norms and CCTV cameras and short listing a neighbourhood, which is most accident prone, and yet as close to the city as possible.\n",
        "\n",
        "We will make use of our data science tools to analyse data and focus on the most accident prone borough and explore its neighborhoods and the 10 most common venues in each neighborhood so that the best neighborhood can be selected."
      ]
    }
  ]
}